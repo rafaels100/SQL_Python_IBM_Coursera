{
 "cells": [
  {
   "cell_type": "code",
   "execution_count": 1,
   "id": "ea9a7678-03b2-4a9c-89d7-67dd75aa8f6a",
   "metadata": {},
   "outputs": [],
   "source": [
    "#cargo la extension de sql para poder hacer magic commands\n",
    "%load_ext sql"
   ]
  },
  {
   "cell_type": "code",
   "execution_count": 2,
   "id": "ad7608e2-68cd-4caf-b1c1-f6d3bd9370cf",
   "metadata": {},
   "outputs": [],
   "source": [
    "import sqlite3\n",
    "import prettytable\n",
    "\n",
    "con = sqlite3.connect(\"SQLiteMagic.db\")\n",
    "cur = con.cursor()\n",
    "prettytable.DEFAULT = 'DEFAULT'"
   ]
  },
  {
   "cell_type": "markdown",
   "id": "af724b8b-3ff7-4a5d-9a3d-97ce332b9bc0",
   "metadata": {},
   "source": [
    "Necesitamos la libreria prettytable para que los comandos magic sql (%sql y %%sql) puedan devolver tablas formateadas"
   ]
  },
  {
   "cell_type": "code",
   "execution_count": 3,
   "id": "f3a1fd75-e449-4997-bcb8-0f177b78e8b6",
   "metadata": {},
   "outputs": [],
   "source": [
    "%sql sqlite:///SQLiteMagic.db"
   ]
  },
  {
   "cell_type": "code",
   "execution_count": 4,
   "id": "1c981eca-5fd3-4c22-890c-1f3582ee6084",
   "metadata": {},
   "outputs": [
    {
     "name": "stdout",
     "output_type": "stream",
     "text": [
      " * sqlite:///SQLiteMagic.db\n",
      "Done.\n",
      "99 rows affected.\n"
     ]
    },
    {
     "data": {
      "text/plain": [
       "[]"
      ]
     },
     "execution_count": 4,
     "metadata": {},
     "output_type": "execute_result"
    }
   ],
   "source": [
    "%%sql\n",
    "\n",
    "CREATE TABLE INTERNATIONAL_STUDENT_TEST_SCORES (\n",
    "\tcountry VARCHAR(50),\n",
    "\tfirst_name VARCHAR(50),\n",
    "\tlast_name VARCHAR(50),\n",
    "\ttest_score INT\n",
    ");\n",
    "INSERT INTO INTERNATIONAL_STUDENT_TEST_SCORES (country, first_name, last_name, test_score)\n",
    "VALUES\n",
    "('United States', 'Marshall', 'Bernadot', 54),\n",
    "('Ghana', 'Celinda', 'Malkin', 51),\n",
    "('Ukraine', 'Guillermo', 'Furze', 53),\n",
    "('Greece', 'Aharon', 'Tunnow', 48),\n",
    "('Russia', 'Bail', 'Goodwin', 46),\n",
    "('Poland', 'Cole', 'Winteringham', 49),\n",
    "('Sweden', 'Emlyn', 'Erricker', 55),\n",
    "('Russia', 'Cathee', 'Sivewright', 49),\n",
    "('China', 'Barny', 'Ingerson', 57),\n",
    "('Uganda', 'Sharla', 'Papaccio', 55),\n",
    "('China', 'Stella', 'Youens', 51),\n",
    "('Poland', 'Julio', 'Buesden', 48),\n",
    "('United States', 'Tiffie', 'Cosely', 58),\n",
    "('Poland', 'Auroora', 'Stiffell', 45),\n",
    "('China', 'Clarita', 'Huet', 52),\n",
    "('Poland', 'Shannon', 'Goulden', 45),\n",
    "('Philippines', 'Emylee', 'Privost', 50),\n",
    "('France', 'Madelina', 'Burk', 49),\n",
    "('China', 'Saunderson', 'Root', 58),\n",
    "('Indonesia', 'Bo', 'Waring', 55),\n",
    "('China', 'Hollis', 'Domotor', 45),\n",
    "('Russia', 'Robbie', 'Collip', 46),\n",
    "('Philippines', 'Davon', 'Donisi', 46),\n",
    "('China', 'Cristabel', 'Radeliffe', 48),\n",
    "('China', 'Wallis', 'Bartleet', 58),\n",
    "('Moldova', 'Arleen', 'Stailey', 38),\n",
    "('Ireland', 'Mendel', 'Grumble', 58),\n",
    "('China', 'Sallyann', 'Exley', 51),\n",
    "('Mexico', 'Kain', 'Swaite', 46),\n",
    "('Indonesia', 'Alonso', 'Bulteel', 45),\n",
    "('Armenia', 'Anatol', 'Tankus', 51),\n",
    "('Indonesia', 'Coralyn', 'Dawkins', 48),\n",
    "('China', 'Deanne', 'Edwinson', 45),\n",
    "('China', 'Georgiana', 'Epple', 51),\n",
    "('Portugal', 'Bartlet', 'Breese', 56),\n",
    "('Azerbaijan', 'Idalina', 'Lukash', 50),\n",
    "('France', 'Livvie', 'Flory', 54),\n",
    "('Malaysia', 'Nonie', 'Borit', 48),\n",
    "('Indonesia', 'Clio', 'Mugg', 47),\n",
    "('Brazil', 'Westley', 'Measor', 48),\n",
    "('Philippines', 'Katrinka', 'Sibbert', 51),\n",
    "('Poland', 'Valentia', 'Mounch', 50),\n",
    "('Norway', 'Sheilah', 'Hedditch', 53),\n",
    "('Papua New Guinea', 'Itch', 'Jubb', 50),\n",
    "('Latvia', 'Stesha', 'Garnson', 53),\n",
    "('Canada', 'Cristionna', 'Wadmore', 46),\n",
    "('China', 'Lianna', 'Gatward', 43),\n",
    "('Guatemala', 'Tanney', 'Vials', 48),\n",
    "('France', 'Alma', 'Zavittieri', 44),\n",
    "('China', 'Alvira', 'Tamas', 50),\n",
    "('United States', 'Shanon', 'Peres', 45),\n",
    "('Sweden', 'Maisey', 'Lynas', 53),\n",
    "('Indonesia', 'Kip', 'Hothersall', 46),\n",
    "('China', 'Cash', 'Landis', 48),\n",
    "('Panama', 'Kennith', 'Digance', 45),\n",
    "('China', 'Ulberto', 'Riggeard', 48),\n",
    "('Switzerland', 'Judy', 'Gilligan', 49),\n",
    "('Philippines', 'Tod', 'Trevaskus', 52),\n",
    "('Brazil', 'Herold', 'Heggs', 44),\n",
    "('Latvia', 'Verney', 'Note', 50),\n",
    "('Poland', 'Temp', 'Ribey', 50),\n",
    "('China', 'Conroy', 'Egdal', 48),\n",
    "('Japan', 'Gabie', 'Alessandone', 47),\n",
    "('Ukraine', 'Devlen', 'Chaperlin', 54),\n",
    "('France', 'Babbette', 'Turner', 51),\n",
    "('Czech Republic', 'Virgil', 'Scotney', 52),\n",
    "('Tajikistan', 'Zorina', 'Bedow', 49),\n",
    "('China', 'Aidan', 'Rudeyeard', 50),\n",
    "('Ireland', 'Saunder', 'MacLice', 48),\n",
    "('France', 'Waly', 'Brunstan', 53),\n",
    "('China', 'Gisele', 'Enns', 52),\n",
    "('Peru', 'Mina', 'Winchester', 48),\n",
    "('Japan', 'Torie', 'MacShirrie', 50),\n",
    "('Russia', 'Benjamen', 'Kenford', 51),\n",
    "('China', 'Etan', 'Burn', 53),\n",
    "('Russia', 'Merralee', 'Chaperlin', 38),\n",
    "('Indonesia', 'Lanny', 'Malam', 49),\n",
    "('Canada', 'Wilhelm', 'Deeprose', 54),\n",
    "('Czech Republic', 'Lari', 'Hillhouse', 48),\n",
    "('China', 'Ossie', 'Woodley', 52),\n",
    "('Macedonia', 'April', 'Tyer', 50),\n",
    "('Vietnam', 'Madelon', 'Dansey', 53),\n",
    "('Ukraine', 'Korella', 'McNamee', 52),\n",
    "('Jamaica', 'Linnea', 'Cannam', 43),\n",
    "('China', 'Mart', 'Coling', 52),\n",
    "('Indonesia', 'Marna', 'Causbey', 47),\n",
    "('China', 'Berni', 'Daintier', 55),\n",
    "('Poland', 'Cynthia', 'Hassell', 49),\n",
    "('Canada', 'Carma', 'Schule', 49),\n",
    "('Indonesia', 'Malia', 'Blight', 48),\n",
    "('China', 'Paulo', 'Seivertsen', 47),\n",
    "('Niger', 'Kaylee', 'Hearley', 54),\n",
    "('Japan', 'Maure', 'Jandak', 46),\n",
    "('Argentina', 'Foss', 'Feavers', 45),\n",
    "('Venezuela', 'Ron', 'Leggitt', 60),\n",
    "('Russia', 'Flint', 'Gokes', 40),\n",
    "('China', 'Linet', 'Conelly', 52),\n",
    "('Philippines', 'Nikolas', 'Birtwell', 57),\n",
    "('Australia', 'Eduard', 'Leipelt', 53)"
   ]
  },
  {
   "cell_type": "markdown",
   "id": "0eaa3a07-b75f-42db-a5c6-8e289d1890dc",
   "metadata": {},
   "source": [
    "Se puede ejecutar queries en el sql y obtener un resultado en un dataframe"
   ]
  },
  {
   "cell_type": "code",
   "execution_count": 4,
   "id": "1109b8a5-e09e-458d-9563-f27e86788c24",
   "metadata": {},
   "outputs": [
    {
     "name": "stdout",
     "output_type": "stream",
     "text": [
      "         country first_name last_name  test_score\n",
      "0  United States   Marshall  Bernadot          54\n",
      "1  United States     Tiffie    Cosely          58\n",
      "2  United States     Shanon     Peres          45\n"
     ]
    }
   ],
   "source": [
    "import pandas as pd\n",
    "\n",
    "query = \"\"\"\n",
    "SELECT * FROM INTERNATIONAL_STUDENT_TEST_SCORES\n",
    "WHERE country = 'United States'\n",
    "\"\"\"\n",
    "data = pd.read_sql(query, con)\n",
    "print(data)"
   ]
  },
  {
   "cell_type": "markdown",
   "id": "f1605813-c129-4894-9ec5-ada7f75403c3",
   "metadata": {},
   "source": [
    "Generalmente venia usando esto para obtener toda la data del database y guardarla en el dataframe, pero depende de la query que le pases obtenes lo que queres"
   ]
  },
  {
   "cell_type": "code",
   "execution_count": 7,
   "id": "683c5310-d962-48f3-9864-78a3b60c4462",
   "metadata": {},
   "outputs": [
    {
     "name": "stdout",
     "output_type": "stream",
     "text": [
      " * sqlite:///SQLiteMagic.db\n",
      "Done.\n",
      "+---------------+------------+-----------+------------+\n",
      "|    country    | first_name | last_name | test_score |\n",
      "+---------------+------------+-----------+------------+\n",
      "| United States |  Marshall  |  Bernadot |     54     |\n",
      "| United States |   Tiffie   |   Cosely  |     58     |\n",
      "| United States |   Shanon   |   Peres   |     45     |\n",
      "+---------------+------------+-----------+------------+\n"
     ]
    }
   ],
   "source": [
    "res = %sql SELECT * FROM INTERNATIONAL_STUDENT_TEST_SCORES \\\n",
    "                WHERE country = 'United States'\n",
    "print(res)"
   ]
  },
  {
   "cell_type": "markdown",
   "id": "94cd1dac-de21-4273-8f1a-2664e1573113",
   "metadata": {},
   "source": [
    "### Crear o consultar columnas con espacios o caracteres especiales"
   ]
  },
  {
   "cell_type": "markdown",
   "id": "d95af89c-04fa-4e4c-8a65-cbab06fc72dc",
   "metadata": {},
   "source": [
    "mysqlite usa \" para las columnas y las tablas (los identifiers), y usa ' para los valores que ponemos alli. Esto permite crear columnas con espacios y caracteres especiales.\n",
    "Es igual a postgresql en este sentido. Solo mysql evita las single quotes ' y usa las comillas invertidas ` para los identifiers, y las \" para los valores.\n",
    "\n",
    "EDIT: A veces \" tambien funciona para los valores"
   ]
  },
  {
   "cell_type": "code",
   "execution_count": 11,
   "id": "14ee6305-afb6-45f9-9f0e-d77ab32599b8",
   "metadata": {},
   "outputs": [
    {
     "name": "stdout",
     "output_type": "stream",
     "text": [
      " * sqlite:///SQLiteMagic.db\n",
      "Done.\n"
     ]
    },
    {
     "data": {
      "text/plain": [
       "[]"
      ]
     },
     "execution_count": 11,
     "metadata": {},
     "output_type": "execute_result"
    }
   ],
   "source": [
    "%%sql\n",
    "\n",
    "CREATE TABLE deportados(\n",
    "    \"pais deportador\" VARCHAR(50),\n",
    "    \"pais deportado\" VARCHAR(50)\n",
    ")"
   ]
  },
  {
   "cell_type": "code",
   "execution_count": 12,
   "id": "cd95d90e-a377-49ef-af33-3b184387956d",
   "metadata": {},
   "outputs": [
    {
     "name": "stdout",
     "output_type": "stream",
     "text": [
      " * sqlite:///SQLiteMagic.db\n",
      "1 rows affected.\n"
     ]
    },
    {
     "data": {
      "text/plain": [
       "[]"
      ]
     },
     "execution_count": 12,
     "metadata": {},
     "output_type": "execute_result"
    }
   ],
   "source": [
    "%sql INSERT INTO deportados (\"pais deportador\", \"pais deportado\") VALUES ('EEUU', 'Mexico'); "
   ]
  },
  {
   "cell_type": "code",
   "execution_count": 13,
   "id": "67833a38-8752-4b43-94bc-27f44cbc6764",
   "metadata": {},
   "outputs": [
    {
     "name": "stdout",
     "output_type": "stream",
     "text": [
      " * sqlite:///SQLiteMagic.db\n",
      "Done.\n"
     ]
    },
    {
     "data": {
      "text/html": [
       "<table>\n",
       "    <thead>\n",
       "        <tr>\n",
       "            <th>pais deportador</th>\n",
       "            <th>pais deportado</th>\n",
       "        </tr>\n",
       "    </thead>\n",
       "    <tbody>\n",
       "        <tr>\n",
       "            <td>EEUU</td>\n",
       "            <td>Mexico</td>\n",
       "        </tr>\n",
       "    </tbody>\n",
       "</table>"
      ],
      "text/plain": [
       "[('EEUU', 'Mexico')]"
      ]
     },
     "execution_count": 13,
     "metadata": {},
     "output_type": "execute_result"
    }
   ],
   "source": [
    "%sql SELECT * FROM deportados \\\n",
    "    WHERE \"pais deportador\" = 'EEUU';"
   ]
  },
  {
   "cell_type": "markdown",
   "id": "77b5b488-4895-4e67-ae7c-704ba2ba7716",
   "metadata": {},
   "source": [
    "### Ver las tablas en mysqlite"
   ]
  },
  {
   "cell_type": "markdown",
   "id": "5f5af2a7-1306-46ae-a9d9-c6dd8ded35fd",
   "metadata": {},
   "source": [
    "Para ver las tablas en mysqlite, accedemos a la tabla sqlite_master y buscamos por el tipo table."
   ]
  },
  {
   "cell_type": "code",
   "execution_count": 18,
   "id": "1b04379f-1d8c-47bf-a221-cf507c8eba5f",
   "metadata": {},
   "outputs": [
    {
     "name": "stdout",
     "output_type": "stream",
     "text": [
      " * sqlite:///SQLiteMagic.db\n",
      "Done.\n"
     ]
    },
    {
     "data": {
      "text/html": [
       "<table>\n",
       "    <thead>\n",
       "        <tr>\n",
       "            <th>name</th>\n",
       "        </tr>\n",
       "    </thead>\n",
       "    <tbody>\n",
       "        <tr>\n",
       "            <td>INTERNATIONAL_STUDENT_TEST_SCORES</td>\n",
       "        </tr>\n",
       "        <tr>\n",
       "            <td>deportados</td>\n",
       "        </tr>\n",
       "    </tbody>\n",
       "</table>"
      ],
      "text/plain": [
       "[('INTERNATIONAL_STUDENT_TEST_SCORES',), ('deportados',)]"
      ]
     },
     "execution_count": 18,
     "metadata": {},
     "output_type": "execute_result"
    }
   ],
   "source": [
    "%sql SELECT name FROM sqlite_master WHERE type = 'table';"
   ]
  },
  {
   "cell_type": "markdown",
   "id": "b822498a-95da-4a22-ac6c-c30912b6e166",
   "metadata": {},
   "source": [
    "### Obtener info de las tablas mysqlite"
   ]
  },
  {
   "cell_type": "code",
   "execution_count": 25,
   "id": "7e0c5add-dd41-4b36-b075-ec3f61d08b5f",
   "metadata": {},
   "outputs": [
    {
     "name": "stdout",
     "output_type": "stream",
     "text": [
      " * sqlite:///SQLiteMagic.db\n",
      "Done.\n"
     ]
    },
    {
     "data": {
      "text/html": [
       "<table>\n",
       "    <thead>\n",
       "        <tr>\n",
       "            <th>cid</th>\n",
       "            <th>name</th>\n",
       "            <th>type</th>\n",
       "            <th>notnull</th>\n",
       "            <th>dflt_value</th>\n",
       "            <th>pk</th>\n",
       "        </tr>\n",
       "    </thead>\n",
       "    <tbody>\n",
       "        <tr>\n",
       "            <td>0</td>\n",
       "            <td>country</td>\n",
       "            <td>VARCHAR(50)</td>\n",
       "            <td>0</td>\n",
       "            <td>None</td>\n",
       "            <td>0</td>\n",
       "        </tr>\n",
       "        <tr>\n",
       "            <td>1</td>\n",
       "            <td>first_name</td>\n",
       "            <td>VARCHAR(50)</td>\n",
       "            <td>0</td>\n",
       "            <td>None</td>\n",
       "            <td>0</td>\n",
       "        </tr>\n",
       "        <tr>\n",
       "            <td>2</td>\n",
       "            <td>last_name</td>\n",
       "            <td>VARCHAR(50)</td>\n",
       "            <td>0</td>\n",
       "            <td>None</td>\n",
       "            <td>0</td>\n",
       "        </tr>\n",
       "        <tr>\n",
       "            <td>3</td>\n",
       "            <td>test_score</td>\n",
       "            <td>INT</td>\n",
       "            <td>0</td>\n",
       "            <td>None</td>\n",
       "            <td>0</td>\n",
       "        </tr>\n",
       "    </tbody>\n",
       "</table>"
      ],
      "text/plain": [
       "[(0, 'country', 'VARCHAR(50)', 0, None, 0),\n",
       " (1, 'first_name', 'VARCHAR(50)', 0, None, 0),\n",
       " (2, 'last_name', 'VARCHAR(50)', 0, None, 0),\n",
       " (3, 'test_score', 'INT', 0, None, 0)]"
      ]
     },
     "execution_count": 25,
     "metadata": {},
     "output_type": "execute_result"
    }
   ],
   "source": [
    "%sql PRAGMA table_info([INTERNATIONAL_STUDENT_TEST_SCORES]);"
   ]
  },
  {
   "cell_type": "markdown",
   "id": "b277f652-2096-42c9-b050-f0c94a711fa5",
   "metadata": {},
   "source": [
    "### Para ver la cantidad de columnas"
   ]
  },
  {
   "cell_type": "code",
   "execution_count": 5,
   "id": "c2de00ac-2108-415d-827d-649e4d9d3cff",
   "metadata": {},
   "outputs": [
    {
     "name": "stdout",
     "output_type": "stream",
     "text": [
      " * sqlite:///SQLiteMagic.db\n",
      "Done.\n"
     ]
    },
    {
     "data": {
      "text/html": [
       "<table>\n",
       "    <thead>\n",
       "        <tr>\n",
       "            <th>count(name)</th>\n",
       "        </tr>\n",
       "    </thead>\n",
       "    <tbody>\n",
       "        <tr>\n",
       "            <td>4</td>\n",
       "        </tr>\n",
       "    </tbody>\n",
       "</table>"
      ],
      "text/plain": [
       "[(4,)]"
      ]
     },
     "execution_count": 5,
     "metadata": {},
     "output_type": "execute_result"
    }
   ],
   "source": [
    "%sql SELECT count(name) FROM PRAGMA_TABLE_INFO('INTERNATIONAL_STUDENT_TEST_SCORES');"
   ]
  },
  {
   "cell_type": "code",
   "execution_count": null,
   "id": "cf2e1b16-4e70-49fe-b35d-a0d90c4d0e47",
   "metadata": {},
   "outputs": [],
   "source": []
  }
 ],
 "metadata": {
  "kernelspec": {
   "display_name": "Python 3 (ipykernel)",
   "language": "python",
   "name": "python3"
  },
  "language_info": {
   "codemirror_mode": {
    "name": "ipython",
    "version": 3
   },
   "file_extension": ".py",
   "mimetype": "text/x-python",
   "name": "python",
   "nbconvert_exporter": "python",
   "pygments_lexer": "ipython3",
   "version": "3.12.7"
  }
 },
 "nbformat": 4,
 "nbformat_minor": 5
}

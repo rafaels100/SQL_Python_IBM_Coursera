{
 "cells": [
  {
   "cell_type": "code",
   "execution_count": 18,
   "id": "9117aed3-6e28-462f-b38d-69cd051d6942",
   "metadata": {},
   "outputs": [
    {
     "name": "stdout",
     "output_type": "stream",
     "text": [
      "The sql extension is already loaded. To reload it, use:\n",
      "  %reload_ext sql\n"
     ]
    }
   ],
   "source": [
    "import prettytable\n",
    "prettytable.DEFAULT = 'DEFAULT'\n",
    "%load_ext sql"
   ]
  },
  {
   "cell_type": "code",
   "execution_count": 2,
   "id": "d11120bb-b91a-44a0-bdfe-ed68658fc215",
   "metadata": {},
   "outputs": [],
   "source": [
    "import sqlite3\n",
    "\n",
    "con = sqlite3.connect(\"chicago.db\")\n",
    "%sql sqlite:///chicago.db"
   ]
  },
  {
   "cell_type": "code",
   "execution_count": 3,
   "id": "fa3197e3-bbbe-45a4-b415-c06b7e798bfa",
   "metadata": {},
   "outputs": [],
   "source": [
    "import pandas as pd"
   ]
  },
  {
   "cell_type": "code",
   "execution_count": 6,
   "id": "10b0b3e7-bff3-4ac7-abe3-85c5c6400aec",
   "metadata": {},
   "outputs": [
    {
     "data": {
      "text/plain": [
       "78"
      ]
     },
     "execution_count": 6,
     "metadata": {},
     "output_type": "execute_result"
    }
   ],
   "source": [
    "#llenamos la base de datos\n",
    "df = pd.read_csv('https://data.cityofchicago.org/resource/jcxq-k9xf.csv')\n",
    "df.to_sql(\"chicago_socioeconomic_data\", con, if_exists='replace', index=False,method=\"multi\")"
   ]
  },
  {
   "cell_type": "code",
   "execution_count": 9,
   "id": "0dd11b61-a199-47eb-8dba-f43bf5c5b841",
   "metadata": {},
   "outputs": [
    {
     "data": {
      "text/plain": [
       "Index(['ca', 'community_area_name', 'percent_of_housing_crowded',\n",
       "       'percent_households_below_poverty', 'percent_aged_16_unemployed',\n",
       "       'percent_aged_25_without_high_school_diploma',\n",
       "       'percent_aged_under_18_or_over_64', 'per_capita_income_',\n",
       "       'hardship_index'],\n",
       "      dtype='object')"
      ]
     },
     "execution_count": 9,
     "metadata": {},
     "output_type": "execute_result"
    }
   ],
   "source": [
    "df.columns"
   ]
  },
  {
   "cell_type": "code",
   "execution_count": 19,
   "id": "64b68cd8-38fa-4c13-8ef4-c7fc51f41ca6",
   "metadata": {},
   "outputs": [
    {
     "name": "stdout",
     "output_type": "stream",
     "text": [
      " * sqlite:///chicago.db\n",
      "Done.\n"
     ]
    },
    {
     "data": {
      "text/html": [
       "<table>\n",
       "    <thead>\n",
       "        <tr>\n",
       "            <th>COUNT(*)</th>\n",
       "        </tr>\n",
       "    </thead>\n",
       "    <tbody>\n",
       "        <tr>\n",
       "            <td>78</td>\n",
       "        </tr>\n",
       "    </tbody>\n",
       "</table>"
      ],
      "text/plain": [
       "[(78,)]"
      ]
     },
     "execution_count": 19,
     "metadata": {},
     "output_type": "execute_result"
    }
   ],
   "source": [
    "%%sql\n",
    "\n",
    "SELECT COUNT(*) FROM chicago_socioeconomic_data;"
   ]
  },
  {
   "cell_type": "code",
   "execution_count": 20,
   "id": "465ce441-0d3b-4245-8b4f-b7e3ca158f9f",
   "metadata": {},
   "outputs": [
    {
     "data": {
      "text/plain": [
       "<bound method NDFrame.describe of 0      1.0\n",
       "1      2.0\n",
       "2      3.0\n",
       "3      4.0\n",
       "4      5.0\n",
       "      ... \n",
       "73    74.0\n",
       "74    75.0\n",
       "75    76.0\n",
       "76    77.0\n",
       "77     NaN\n",
       "Name: ca, Length: 78, dtype: float64>"
      ]
     },
     "execution_count": 20,
     "metadata": {},
     "output_type": "execute_result"
    }
   ],
   "source": [
    "df['ca'].describe"
   ]
  },
  {
   "cell_type": "code",
   "execution_count": 21,
   "id": "759a3642-346b-428b-a62e-b19866cbc451",
   "metadata": {},
   "outputs": [
    {
     "name": "stdout",
     "output_type": "stream",
     "text": [
      " * sqlite:///chicago.db\n",
      "Done.\n"
     ]
    },
    {
     "data": {
      "text/html": [
       "<table>\n",
       "    <thead>\n",
       "        <tr>\n",
       "            <th>COUNT(*)</th>\n",
       "        </tr>\n",
       "    </thead>\n",
       "    <tbody>\n",
       "        <tr>\n",
       "            <td>38</td>\n",
       "        </tr>\n",
       "    </tbody>\n",
       "</table>"
      ],
      "text/plain": [
       "[(38,)]"
      ]
     },
     "execution_count": 21,
     "metadata": {},
     "output_type": "execute_result"
    }
   ],
   "source": [
    "%%sql\n",
    "\n",
    "SELECT COUNT(*) FROM chicago_socioeconomic_data WHERE hardship_index > 50"
   ]
  },
  {
   "cell_type": "code",
   "execution_count": 29,
   "id": "7573bb00-ed3e-4326-a270-0059f95a7451",
   "metadata": {},
   "outputs": [
    {
     "name": "stdout",
     "output_type": "stream",
     "text": [
      " * sqlite:///chicago.db\n",
      "Done.\n",
      "+---------------------+\n",
      "| MAX(hardship_index) |\n",
      "+---------------------+\n",
      "|         98.0        |\n",
      "+---------------------+\n",
      "[(98.0,), (98.0,)]\n"
     ]
    }
   ],
   "source": [
    "maximo = %sql SELECT MAX(hardship_index) FROM chicago_socioeconomic_data;\n",
    "print(maximo)\n",
    "print(maximo*2)"
   ]
  },
  {
   "cell_type": "code",
   "execution_count": 30,
   "id": "5d1e4dc8-1529-42b7-85ca-862079ddc389",
   "metadata": {},
   "outputs": [
    {
     "name": "stdout",
     "output_type": "stream",
     "text": [
      "Help on ResultSet in module sql.run object:\n",
      "\n",
      "class ResultSet(builtins.list, sql.column_guesser.ColumnGuesserMixin)\n",
      " |  ResultSet(sqlaproxy, config)\n",
      " |\n",
      " |  Results of a SQL query.\n",
      " |\n",
      " |  Can access rows listwise, or by string value of leftmost column.\n",
      " |\n",
      " |  Method resolution order:\n",
      " |      ResultSet\n",
      " |      builtins.list\n",
      " |      sql.column_guesser.ColumnGuesserMixin\n",
      " |      builtins.object\n",
      " |\n",
      " |  Methods defined here:\n",
      " |\n",
      " |  DataFrame(self)\n",
      " |      Returns a Pandas DataFrame instance built from the result set.\n",
      " |\n",
      " |  __getitem__(self, key)\n",
      " |      Access by integer (row position within result set)\n",
      " |      or by string (value of leftmost column)\n",
      " |\n",
      " |  __init__(self, sqlaproxy, config)\n",
      " |      Initialize self.  See help(type(self)) for accurate signature.\n",
      " |\n",
      " |  __str__(self, *arg, **kwarg)\n",
      " |      Return str(self).\n",
      " |\n",
      " |  bar(self, key_word_sep=' ', title=None, **kwargs)\n",
      " |      Generates a pylab bar plot from the result set.\n",
      " |\n",
      " |      ``matplotlib`` must be installed, and in an\n",
      " |      IPython Notebook, inlining must be on::\n",
      " |\n",
      " |          %%matplotlib inline\n",
      " |\n",
      " |      The last quantitative column is taken as the Y values;\n",
      " |      all other columns are combined to label the X axis.\n",
      " |\n",
      " |      Parameters\n",
      " |      ----------\n",
      " |      title: Plot title, defaults to names of Y value columns\n",
      " |      key_word_sep: string used to separate column values\n",
      " |                    from each other in labels\n",
      " |\n",
      " |      Any additional keyword arguments will be passsed\n",
      " |      through to ``matplotlib.pylab.bar``.\n",
      " |\n",
      " |  csv(self, filename=None, **format_params)\n",
      " |      Generate results in comma-separated form.  Write to ``filename`` if given.\n",
      " |      Any other parameters will be passed on to csv.writer.\n",
      " |\n",
      " |  dict(self)\n",
      " |      Returns a single dict built from the result set\n",
      " |\n",
      " |      Keys are column names; values are a tuple\n",
      " |\n",
      " |  dicts(self)\n",
      " |      Iterator yielding a dict for each row\n",
      " |\n",
      " |  pie(self, key_word_sep=' ', title=None, **kwargs)\n",
      " |      Generates a pylab pie chart from the result set.\n",
      " |\n",
      " |      ``matplotlib`` must be installed, and in an\n",
      " |      IPython Notebook, inlining must be on::\n",
      " |\n",
      " |          %%matplotlib inline\n",
      " |\n",
      " |      Values (pie slice sizes) are taken from the\n",
      " |      rightmost column (numerical values required).\n",
      " |      All other columns are used to label the pie slices.\n",
      " |\n",
      " |      Parameters\n",
      " |      ----------\n",
      " |      key_word_sep: string used to separate column values\n",
      " |                    from each other in pie labels\n",
      " |      title: Plot title, defaults to name of value column\n",
      " |\n",
      " |      Any additional keyword arguments will be passsed\n",
      " |      through to ``matplotlib.pylab.pie``.\n",
      " |\n",
      " |  plot(self, title=None, **kwargs)\n",
      " |      Generates a pylab plot from the result set.\n",
      " |\n",
      " |      ``matplotlib`` must be installed, and in an\n",
      " |      IPython Notebook, inlining must be on::\n",
      " |\n",
      " |          %%matplotlib inline\n",
      " |\n",
      " |      The first and last columns are taken as the X and Y\n",
      " |      values.  Any columns between are ignored.\n",
      " |\n",
      " |      Parameters\n",
      " |      ----------\n",
      " |      title: Plot title, defaults to names of Y value columns\n",
      " |\n",
      " |      Any additional keyword arguments will be passsed\n",
      " |      through to ``matplotlib.pylab.plot``.\n",
      " |\n",
      " |  ----------------------------------------------------------------------\n",
      " |  Data descriptors defined here:\n",
      " |\n",
      " |  __dict__\n",
      " |      dictionary for instance variables\n",
      " |\n",
      " |  __weakref__\n",
      " |      list of weak references to the object\n",
      " |\n",
      " |  ----------------------------------------------------------------------\n",
      " |  Methods inherited from builtins.list:\n",
      " |\n",
      " |  __add__(self, value, /)\n",
      " |      Return self+value.\n",
      " |\n",
      " |  __contains__(self, key, /)\n",
      " |      Return bool(key in self).\n",
      " |\n",
      " |  __delitem__(self, key, /)\n",
      " |      Delete self[key].\n",
      " |\n",
      " |  __eq__(self, value, /)\n",
      " |      Return self==value.\n",
      " |\n",
      " |  __ge__(self, value, /)\n",
      " |      Return self>=value.\n",
      " |\n",
      " |  __getattribute__(self, name, /)\n",
      " |      Return getattr(self, name).\n",
      " |\n",
      " |  __gt__(self, value, /)\n",
      " |      Return self>value.\n",
      " |\n",
      " |  __iadd__(self, value, /)\n",
      " |      Implement self+=value.\n",
      " |\n",
      " |  __imul__(self, value, /)\n",
      " |      Implement self*=value.\n",
      " |\n",
      " |  __iter__(self, /)\n",
      " |      Implement iter(self).\n",
      " |\n",
      " |  __le__(self, value, /)\n",
      " |      Return self<=value.\n",
      " |\n",
      " |  __len__(self, /)\n",
      " |      Return len(self).\n",
      " |\n",
      " |  __lt__(self, value, /)\n",
      " |      Return self<value.\n",
      " |\n",
      " |  __mul__(self, value, /)\n",
      " |      Return self*value.\n",
      " |\n",
      " |  __ne__(self, value, /)\n",
      " |      Return self!=value.\n",
      " |\n",
      " |  __repr__(self, /)\n",
      " |      Return repr(self).\n",
      " |\n",
      " |  __reversed__(self, /)\n",
      " |      Return a reverse iterator over the list.\n",
      " |\n",
      " |  __rmul__(self, value, /)\n",
      " |      Return value*self.\n",
      " |\n",
      " |  __setitem__(self, key, value, /)\n",
      " |      Set self[key] to value.\n",
      " |\n",
      " |  __sizeof__(self, /)\n",
      " |      Return the size of the list in memory, in bytes.\n",
      " |\n",
      " |  append(self, object, /)\n",
      " |      Append object to the end of the list.\n",
      " |\n",
      " |  clear(self, /)\n",
      " |      Remove all items from list.\n",
      " |\n",
      " |  copy(self, /)\n",
      " |      Return a shallow copy of the list.\n",
      " |\n",
      " |  count(self, value, /)\n",
      " |      Return number of occurrences of value.\n",
      " |\n",
      " |  extend(self, iterable, /)\n",
      " |      Extend list by appending elements from the iterable.\n",
      " |\n",
      " |  index(self, value, start=0, stop=9223372036854775807, /)\n",
      " |      Return first index of value.\n",
      " |\n",
      " |      Raises ValueError if the value is not present.\n",
      " |\n",
      " |  insert(self, index, object, /)\n",
      " |      Insert object before index.\n",
      " |\n",
      " |  pop(self, index=-1, /)\n",
      " |      Remove and return item at index (default last).\n",
      " |\n",
      " |      Raises IndexError if list is empty or index is out of range.\n",
      " |\n",
      " |  remove(self, value, /)\n",
      " |      Remove first occurrence of value.\n",
      " |\n",
      " |      Raises ValueError if the value is not present.\n",
      " |\n",
      " |  reverse(self, /)\n",
      " |      Reverse *IN PLACE*.\n",
      " |\n",
      " |  sort(self, /, *, key=None, reverse=False)\n",
      " |      Sort the list in ascending order and return None.\n",
      " |\n",
      " |      The sort is in-place (i.e. the list itself is modified) and stable (i.e. the\n",
      " |      order of two equal elements is maintained).\n",
      " |\n",
      " |      If a key function is given, apply it once to each list item and sort them,\n",
      " |      ascending or descending, according to their function values.\n",
      " |\n",
      " |      The reverse flag can be set to sort in descending order.\n",
      " |\n",
      " |  ----------------------------------------------------------------------\n",
      " |  Class methods inherited from builtins.list:\n",
      " |\n",
      " |  __class_getitem__(...)\n",
      " |      See PEP 585\n",
      " |\n",
      " |  ----------------------------------------------------------------------\n",
      " |  Static methods inherited from builtins.list:\n",
      " |\n",
      " |  __new__(*args, **kwargs) class method of builtins.list\n",
      " |      Create and return a new object.  See help(type) for accurate signature.\n",
      " |\n",
      " |  ----------------------------------------------------------------------\n",
      " |  Data and other attributes inherited from builtins.list:\n",
      " |\n",
      " |  __hash__ = None\n",
      " |\n",
      " |  ----------------------------------------------------------------------\n",
      " |  Methods inherited from sql.column_guesser.ColumnGuesserMixin:\n",
      " |\n",
      " |  guess_pie_columns(self, xlabel_sep=' ')\n",
      " |      Assigns x, y, and x labels from the data set for a pie chart.\n",
      " |\n",
      " |      Pie charts simply use the last quantity column as\n",
      " |      the pie slice size, and everything else as the\n",
      " |      pie slice labels.\n",
      " |\n",
      " |  guess_plot_columns(self)\n",
      " |      Assigns ``x`` and ``y`` series from the data set for a plot.\n",
      " |\n",
      " |      Plots use:\n",
      " |        the rightmost quantity column as a Y series\n",
      " |        optionally, the leftmost quantity column as the X series\n",
      " |        any other quantity columns as additional Y series\n",
      "\n"
     ]
    }
   ],
   "source": [
    "help(maximo)"
   ]
  },
  {
   "cell_type": "code",
   "execution_count": 36,
   "id": "d752a4be-599f-4bcd-9be6-f23df3775ea0",
   "metadata": {},
   "outputs": [
    {
     "name": "stdout",
     "output_type": "stream",
     "text": [
      " * sqlite:///chicago.db\n",
      "Done.\n",
      "+------+---------------------+----------------------------+----------------------------------+----------------------------+---------------------------------------------+----------------------------------+--------------------+----------------+\n",
      "|  ca  | community_area_name | percent_of_housing_crowded | percent_households_below_poverty | percent_aged_16_unemployed | percent_aged_25_without_high_school_diploma | percent_aged_under_18_or_over_64 | per_capita_income_ | hardship_index |\n",
      "+------+---------------------+----------------------------+----------------------------------+----------------------------+---------------------------------------------+----------------------------------+--------------------+----------------+\n",
      "| 54.0 |      Riverdale      |            5.8             |               56.5               |            34.6            |                     27.5                    |               51.5               |        8201        |      98.0      |\n",
      "+------+---------------------+----------------------------+----------------------------------+----------------------------+---------------------------------------------+----------------------------------+--------------------+----------------+\n"
     ]
    }
   ],
   "source": [
    "res = %sql SELECT * FROM chicago_socioeconomic_data GROUP BY ca ORDER BY hardship_index DESC LIMIT 1;\n",
    "print(res)"
   ]
  },
  {
   "cell_type": "code",
   "execution_count": 37,
   "id": "b32af18d-c95f-493e-b78b-d288e32c586a",
   "metadata": {},
   "outputs": [
    {
     "name": "stdout",
     "output_type": "stream",
     "text": [
      " * sqlite:///chicago.db\n",
      "Done.\n",
      " * sqlite:///chicago.db\n",
      "Done.\n"
     ]
    }
   ],
   "source": [
    "cant_registros = %sql SELECT COUNT(*) FROM chicago_socioeconomic_data;\n",
    "cant_ca = %sql SELECT COUNT(DISTINCT(ca)) FROM chicago_socioeconomic_data;\n"
   ]
  },
  {
   "cell_type": "code",
   "execution_count": 38,
   "id": "04471f55-6c0c-441c-899e-70d07d08e3db",
   "metadata": {},
   "outputs": [
    {
     "name": "stdout",
     "output_type": "stream",
     "text": [
      "+----------+\n",
      "| COUNT(*) |\n",
      "+----------+\n",
      "|    78    |\n",
      "+----------+ +---------------------+\n",
      "| COUNT(DISTINCT(ca)) |\n",
      "+---------------------+\n",
      "|          77         |\n",
      "+---------------------+\n"
     ]
    }
   ],
   "source": [
    "print(cant_registros, cant_ca)"
   ]
  },
  {
   "cell_type": "markdown",
   "id": "47e7df60-8e6d-4f81-9284-0fe2c1b4da33",
   "metadata": {},
   "source": [
    "Esto demuestra que no hay repetidos, son todos ca distintas. Eso simplifica el codigo, no necesito agrupar los registros por ca"
   ]
  },
  {
   "cell_type": "code",
   "execution_count": 43,
   "id": "8b0ad4c5-4008-431e-9e84-df3d046589b2",
   "metadata": {},
   "outputs": [
    {
     "name": "stdout",
     "output_type": "stream",
     "text": [
      " * sqlite:///chicago.db\n",
      "Done.\n",
      "+---------------------+\n",
      "| community_area_name |\n",
      "+---------------------+\n",
      "|      Riverdale      |\n",
      "+---------------------+\n"
     ]
    }
   ],
   "source": [
    "res = %sql SELECT community_area_name FROM chicago_socioeconomic_data ORDER BY hardship_index DESC LIMIT 1;\n",
    "print(res)"
   ]
  },
  {
   "cell_type": "code",
   "execution_count": 66,
   "id": "ab4aff31-bee1-4f80-bf30-78718430f080",
   "metadata": {},
   "outputs": [
    {
     "ename": "IndexError",
     "evalue": "pop from empty list",
     "output_type": "error",
     "traceback": [
      "\u001b[0;31m---------------------------------------------------------------------------\u001b[0m",
      "\u001b[0;31mIndexError\u001b[0m                                Traceback (most recent call last)",
      "Cell \u001b[0;32mIn[66], line 1\u001b[0m\n\u001b[0;32m----> 1\u001b[0m mxm \u001b[38;5;241m=\u001b[39m \u001b[38;5;28mstr\u001b[39m(\u001b[43mmaximo\u001b[49m\u001b[38;5;241;43m.\u001b[39;49m\u001b[43mpop\u001b[49m\u001b[43m(\u001b[49m\u001b[43m)\u001b[49m[\u001b[38;5;241m0\u001b[39m])\n\u001b[1;32m      2\u001b[0m \u001b[38;5;28mprint\u001b[39m(mxm)\n",
      "\u001b[0;31mIndexError\u001b[0m: pop from empty list"
     ]
    }
   ],
   "source": [
    "mxm = str(maximo.pop()[0])\n",
    "print(mxm)"
   ]
  },
  {
   "cell_type": "code",
   "execution_count": 71,
   "id": "72ccc594-e1d8-41db-9cc0-aad00d09fb3e",
   "metadata": {},
   "outputs": [
    {
     "name": "stdout",
     "output_type": "stream",
     "text": [
      " * sqlite:///chicago.db\n",
      "Done.\n",
      " * sqlite:///chicago.db\n",
      "Done.\n",
      "98.0\n",
      " * sqlite:///chicago.db\n",
      "Done.\n",
      "+---------------------+\n",
      "| community_area_name |\n",
      "+---------------------+\n",
      "|      Riverdale      |\n",
      "+---------------------+\n"
     ]
    }
   ],
   "source": [
    "#otra forma es usar el resultado del maximo hardship index ontenido en el ejercicio 2\n",
    "maximo = %sql SELECT MAX(hardship_index) FROM chicago_socioeconomic_data;\n",
    "#o lo que es lo mismo\n",
    "maximo1 = %sql SELECT hardship_index FROM chicago_socioeconomic_data ORDER BY hardship_index DESC LIMIT 1;\n",
    "#maximo es un result set, es un iterador.\n",
    "#hago pop para quedarme con el primer resultado, el unico. \n",
    "mxm = str(maximo.pop()[0])\n",
    "print(mxm)\n",
    "res = %sql SELECT community_area_name FROM chicago_socioeconomic_data WHERE hardship_index = :mxm;\n",
    "print(res)"
   ]
  },
  {
   "cell_type": "code",
   "execution_count": null,
   "id": "61b323e4-8d03-45b8-bb73-047d75a346f6",
   "metadata": {},
   "outputs": [],
   "source": []
  }
 ],
 "metadata": {
  "kernelspec": {
   "display_name": "Python 3 (ipykernel)",
   "language": "python",
   "name": "python3"
  },
  "language_info": {
   "codemirror_mode": {
    "name": "ipython",
    "version": 3
   },
   "file_extension": ".py",
   "mimetype": "text/x-python",
   "name": "python",
   "nbconvert_exporter": "python",
   "pygments_lexer": "ipython3",
   "version": "3.12.7"
  }
 },
 "nbformat": 4,
 "nbformat_minor": 5
}

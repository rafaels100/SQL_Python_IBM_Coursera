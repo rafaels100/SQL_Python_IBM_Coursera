{
 "cells": [
  {
   "cell_type": "code",
   "execution_count": 1,
   "id": "6d9e6b34-3287-453c-9f11-a29cec643e6b",
   "metadata": {},
   "outputs": [],
   "source": [
    "#Como los databases estan en archivos en sqlite, no necesito credenciales. Uso magic commands que usan sqlalchemy \n",
    "#pero no necesito importar sqlialchemy completa\n",
    "import sqlite3\n",
    "#para manipular data y llenar las tablas en sql\n",
    "import pandas as pd\n",
    "#para manipular archivos\n",
    "import os\n",
    "\n",
    "#para los magic commands si necesito prettytable\n",
    "import prettytable\n",
    "# Set the default display format for prettytable to 'DEFAULT' (i.e., a simple table format)\n",
    "prettytable.DEFAULT = 'DEFAULT'\n",
    "#cargo la extension para poder hacer magic commands\n",
    "%load_ext sql"
   ]
  },
  {
   "cell_type": "code",
   "execution_count": 9,
   "id": "fdd33183-c735-40c4-b846-d569c152f75f",
   "metadata": {},
   "outputs": [
    {
     "name": "stdout",
     "output_type": "stream",
     "text": [
      "El database ya existia, y tiene las siguientes tablas:\n",
      " * sqlite:///chicago.db\n",
      "Done.\n",
      "+----------------------------+\n",
      "|            name            |\n",
      "+----------------------------+\n",
      "| chicago_socioeconomic_data |\n",
      "|       school_chicago       |\n",
      "|     chicago_crime_data     |\n",
      "+----------------------------+\n"
     ]
    }
   ],
   "source": [
    "#si aun no existe, creo el database chicago, que tendra las tres tablas del proyecto\n",
    "db_name = 'chicago.db'\n",
    "db_exists = os.path.exists(db_name)\n",
    "#si ya existe, se conecta, si no existia, lo crea y se conecta\n",
    "conn = sqlite3.connect(\"chicago.db\")\n",
    "cur = conn.cursor()\n",
    "#seteo al magic command para trabajar con este database \n",
    "%sql sqlite:///chicago.db\n",
    "\n",
    "if db_exists:\n",
    "    print(\"El database ya existia, y tiene las siguientes tablas:\")\n",
    "    res = %sql SELECT name FROM sqlite_master WHERE type='table';\n",
    "    print(res)\n",
    "else:\n",
    "    print(\"El database no existia y fue creado\")"
   ]
  },
  {
   "cell_type": "code",
   "execution_count": 5,
   "id": "88b68dc1-e9de-447b-8344-1867d2680ed1",
   "metadata": {},
   "outputs": [
    {
     "name": "stdout",
     "output_type": "stream",
     "text": [
      "La tabla chicago_socioeconomic_data fue creada satisfactoriamente\n",
      "La tabla school_chicago fue creada satisfactoriamente\n",
      "La tabla chicago_crime_data fue creada satisfactoriamente\n"
     ]
    }
   ],
   "source": [
    "#creo las tres tablas, leyendolas de los csv en la carpeta data en este directorio\n",
    "dir_data = [\"./data/ChicagoCensusData.csv\", \"./data/ChicagoPublicSchools.csv\", \"./data/ChicagoCrimeData.csv\"]\n",
    "nombres_tablas = ['chicago_socioeconomic_data', 'school_chicago', 'chicago_crime_data']\n",
    "for i in range(len(dir_data)):\n",
    "    if os.path.exists(dir_data[i]):\n",
    "        pd.read_csv(dir_data[i]).to_sql(nombres_tablas[i], conn, if_exists='replace', index=False)\n",
    "        print(f\"La tabla {nombres_tablas[i]} fue creada satisfactoriamente\")\n",
    "    else:\n",
    "        print(\"La direccion de la data no existe\")\n"
   ]
  },
  {
   "cell_type": "code",
   "execution_count": 8,
   "id": "986b758a-75e4-4007-8576-a0b23c88c02d",
   "metadata": {},
   "outputs": [
    {
     "name": "stdout",
     "output_type": "stream",
     "text": [
      " * sqlite:///chicago.db\n",
      "Done.\n"
     ]
    },
    {
     "data": {
      "text/html": [
       "<table>\n",
       "    <thead>\n",
       "        <tr>\n",
       "            <th>name</th>\n",
       "        </tr>\n",
       "    </thead>\n",
       "    <tbody>\n",
       "        <tr>\n",
       "            <td>chicago_socioeconomic_data</td>\n",
       "        </tr>\n",
       "        <tr>\n",
       "            <td>school_chicago</td>\n",
       "        </tr>\n",
       "        <tr>\n",
       "            <td>chicago_crime_data</td>\n",
       "        </tr>\n",
       "    </tbody>\n",
       "</table>"
      ],
      "text/plain": [
       "[('chicago_socioeconomic_data',), ('school_chicago',), ('chicago_crime_data',)]"
      ]
     },
     "execution_count": 8,
     "metadata": {},
     "output_type": "execute_result"
    }
   ],
   "source": [
    "%sql SELECT name FROM sqlite_master WHERE type='table';"
   ]
  },
  {
   "cell_type": "markdown",
   "id": "21022671-97ec-431a-9179-c0c6b2929ceb",
   "metadata": {},
   "source": [
    "### Analisis exploratorio de las tablas"
   ]
  },
  {
   "cell_type": "code",
   "execution_count": 10,
   "id": "cc39a2e7-1e7f-421e-b44b-dd871559639f",
   "metadata": {},
   "outputs": [
    {
     "name": "stdout",
     "output_type": "stream",
     "text": [
      " * sqlite:///chicago.db\n",
      "Done.\n",
      "chicago_socioeconomic_data\n",
      "+-----+----------------------------------------------+---------+---------+------------+----+\n",
      "| cid |                     name                     |   type  | notnull | dflt_value | pk |\n",
      "+-----+----------------------------------------------+---------+---------+------------+----+\n",
      "|  0  |            COMMUNITY_AREA_NUMBER             |   REAL  |    0    |    None    | 0  |\n",
      "|  1  |             COMMUNITY_AREA_NAME              |   TEXT  |    0    |    None    | 0  |\n",
      "|  2  |          PERCENT_OF_HOUSING_CROWDED          |   REAL  |    0    |    None    | 0  |\n",
      "|  3  |       PERCENT_HOUSEHOLDS_BELOW_POVERTY       |   REAL  |    0    |    None    | 0  |\n",
      "|  4  |         PERCENT_AGED_16__UNEMPLOYED          |   REAL  |    0    |    None    | 0  |\n",
      "|  5  | PERCENT_AGED_25__WITHOUT_HIGH_SCHOOL_DIPLOMA |   REAL  |    0    |    None    | 0  |\n",
      "|  6  |       PERCENT_AGED_UNDER_18_OR_OVER_64       |   REAL  |    0    |    None    | 0  |\n",
      "|  7  |              PER_CAPITA_INCOME               | INTEGER |    0    |    None    | 0  |\n",
      "|  8  |                HARDSHIP_INDEX                |   REAL  |    0    |    None    | 0  |\n",
      "+-----+----------------------------------------------+---------+---------+------------+----+\n",
      " * sqlite:///chicago.db\n",
      "Done.\n",
      "school_chicago\n",
      "+-----+--------------------------------------------------+---------+---------+------------+----+\n",
      "| cid |                       name                       |   type  | notnull | dflt_value | pk |\n",
      "+-----+--------------------------------------------------+---------+---------+------------+----+\n",
      "|  0  |                    School_ID                     | INTEGER |    0    |    None    | 0  |\n",
      "|  1  |                  NAME_OF_SCHOOL                  |   TEXT  |    0    |    None    | 0  |\n",
      "|  2  |        Elementary, Middle, or High School        |   TEXT  |    0    |    None    | 0  |\n",
      "|  3  |                  Street_Address                  |   TEXT  |    0    |    None    | 0  |\n",
      "|  4  |                       City                       |   TEXT  |    0    |    None    | 0  |\n",
      "|  5  |                      State                       |   TEXT  |    0    |    None    | 0  |\n",
      "|  6  |                     ZIP_Code                     | INTEGER |    0    |    None    | 0  |\n",
      "|  7  |                   Phone_Number                   |   TEXT  |    0    |    None    | 0  |\n",
      "|  8  |                       Link                       |   TEXT  |    0    |    None    | 0  |\n",
      "|  9  |                 Network_Manager                  |   TEXT  |    0    |    None    | 0  |\n",
      "|  10 |                Collaborative_Name                |   TEXT  |    0    |    None    | 0  |\n",
      "|  11 |          Adequate_Yearly_Progress_Made_          |   TEXT  |    0    |    None    | 0  |\n",
      "|  12 |                  Track_Schedule                  |   TEXT  |    0    |    None    | 0  |\n",
      "|  13 |          CPS_Performance_Policy_Status           |   TEXT  |    0    |    None    | 0  |\n",
      "|  14 |           CPS_Performance_Policy_Level           |   TEXT  |    0    |    None    | 0  |\n",
      "|  15 |             HEALTHY_SCHOOL_CERTIFIED             |   TEXT  |    0    |    None    | 0  |\n",
      "|  16 |                   Safety_Icon                    |   TEXT  |    0    |    None    | 0  |\n",
      "|  17 |                   SAFETY_SCORE                   |   REAL  |    0    |    None    | 0  |\n",
      "|  18 |             Family_Involvement_Icon              |   TEXT  |    0    |    None    | 0  |\n",
      "|  19 |             Family_Involvement_Score             |   TEXT  |    0    |    None    | 0  |\n",
      "|  20 |                 Environment_Icon                 |   TEXT  |    0    |    None    | 0  |\n",
      "|  21 |                Environment_Score                 |   REAL  |    0    |    None    | 0  |\n",
      "|  22 |                 Instruction_Icon                 |   TEXT  |    0    |    None    | 0  |\n",
      "|  23 |                Instruction_Score                 |   REAL  |    0    |    None    | 0  |\n",
      "|  24 |                   Leaders_Icon                   |   TEXT  |    0    |    None    | 0  |\n",
      "|  25 |                  Leaders_Score                   |   TEXT  |    0    |    None    | 0  |\n",
      "|  26 |                  Teachers_Icon                   |   TEXT  |    0    |    None    | 0  |\n",
      "|  27 |                  Teachers_Score                  |   TEXT  |    0    |    None    | 0  |\n",
      "|  28 |              Parent_Engagement_Icon              |   TEXT  |    0    |    None    | 0  |\n",
      "|  29 |             Parent_Engagement_Score              |   TEXT  |    0    |    None    | 0  |\n",
      "|  30 |             Parent_Environment_Icon              |   TEXT  |    0    |    None    | 0  |\n",
      "|  31 |             Parent_Environment_Score             |   TEXT  |    0    |    None    | 0  |\n",
      "|  32 |            AVERAGE_STUDENT_ATTENDANCE            |   TEXT  |    0    |    None    | 0  |\n",
      "|  33 |      Rate_of_Misconducts__per_100_students_      |   REAL  |    0    |    None    | 0  |\n",
      "|  34 |            Average_Teacher_Attendance            |   TEXT  |    0    |    None    | 0  |\n",
      "|  35 | Individualized_Education_Program_Compliance_Rate |   TEXT  |    0    |    None    | 0  |\n",
      "|  36 |                 Pk_2_Literacy__                  |   TEXT  |    0    |    None    | 0  |\n",
      "|  37 |                   Pk_2_Math__                    |   TEXT  |    0    |    None    | 0  |\n",
      "|  38 |             Gr3_5_Grade_Level_Math__             |   TEXT  |    0    |    None    | 0  |\n",
      "|  39 |             Gr3_5_Grade_Level_Read__             |   TEXT  |    0    |    None    | 0  |\n",
      "|  40 |              Gr3_5_Keep_Pace_Read__              |   TEXT  |    0    |    None    | 0  |\n",
      "|  41 |              Gr3_5_Keep_Pace_Math__              |   TEXT  |    0    |    None    | 0  |\n",
      "|  42 |             Gr6_8_Grade_Level_Math__             |   TEXT  |    0    |    None    | 0  |\n",
      "|  43 |             Gr6_8_Grade_Level_Read__             |   TEXT  |    0    |    None    | 0  |\n",
      "|  44 |              Gr6_8_Keep_Pace_Math_               |   TEXT  |    0    |    None    | 0  |\n",
      "|  45 |              Gr6_8_Keep_Pace_Read__              |   TEXT  |    0    |    None    | 0  |\n",
      "|  46 |               Gr_8_Explore_Math__                |   TEXT  |    0    |    None    | 0  |\n",
      "|  47 |               Gr_8_Explore_Read__                |   TEXT  |    0    |    None    | 0  |\n",
      "|  48 |              ISAT_Exceeding_Math__               |   REAL  |    0    |    None    | 0  |\n",
      "|  49 |             ISAT_Exceeding_Reading__             |   REAL  |    0    |    None    | 0  |\n",
      "|  50 |               ISAT_Value_Add_Math                |   REAL  |    0    |    None    | 0  |\n",
      "|  51 |               ISAT_Value_Add_Read                |   REAL  |    0    |    None    | 0  |\n",
      "|  52 |            ISAT_Value_Add_Color_Math             |   TEXT  |    0    |    None    | 0  |\n",
      "|  53 |            ISAT_Value_Add_Color_Read             |   TEXT  |    0    |    None    | 0  |\n",
      "|  54 |            Students_Taking__Algebra__            |   TEXT  |    0    |    None    | 0  |\n",
      "|  55 |           Students_Passing__Algebra__            |   TEXT  |    0    |    None    | 0  |\n",
      "|  56 |             9th Grade EXPLORE (2009)             |   TEXT  |    0    |    None    | 0  |\n",
      "|  57 |             9th Grade EXPLORE (2010)             |   TEXT  |    0    |    None    | 0  |\n",
      "|  58 |              10th Grade PLAN (2009)              |   TEXT  |    0    |    None    | 0  |\n",
      "|  59 |              10th Grade PLAN (2010)              |   TEXT  |    0    |    None    | 0  |\n",
      "|  60 |           Net_Change_EXPLORE_and_PLAN            |   TEXT  |    0    |    None    | 0  |\n",
      "|  61 |          11th Grade Average ACT (2011)           |   TEXT  |    0    |    None    | 0  |\n",
      "|  62 |             Net_Change_PLAN_and_ACT              |   TEXT  |    0    |    None    | 0  |\n",
      "|  63 |              College_Eligibility__               |   TEXT  |    0    |    None    | 0  |\n",
      "|  64 |                Graduation_Rate__                 |   TEXT  |    0    |    None    | 0  |\n",
      "|  65 |            College_Enrollment_Rate__             |   TEXT  |    0    |    None    | 0  |\n",
      "|  66 |                COLLEGE_ENROLLMENT                | INTEGER |    0    |    None    | 0  |\n",
      "|  67 |              General_Services_Route              | INTEGER |    0    |    None    | 0  |\n",
      "|  68 |             Freshman_on_Track_Rate__             |   TEXT  |    0    |    None    | 0  |\n",
      "|  69 |                   X_COORDINATE                   |   REAL  |    0    |    None    | 0  |\n",
      "|  70 |                   Y_COORDINATE                   |   REAL  |    0    |    None    | 0  |\n",
      "|  71 |                     Latitude                     |   REAL  |    0    |    None    | 0  |\n",
      "|  72 |                    Longitude                     |   REAL  |    0    |    None    | 0  |\n",
      "|  73 |              COMMUNITY_AREA_NUMBER               | INTEGER |    0    |    None    | 0  |\n",
      "|  74 |               COMMUNITY_AREA_NAME                |   TEXT  |    0    |    None    | 0  |\n",
      "|  75 |                       Ward                       | INTEGER |    0    |    None    | 0  |\n",
      "|  76 |                 Police_District                  | INTEGER |    0    |    None    | 0  |\n",
      "|  77 |                     Location                     |   TEXT  |    0    |    None    | 0  |\n",
      "+-----+--------------------------------------------------+---------+---------+------------+----+\n",
      " * sqlite:///chicago.db\n",
      "Done.\n",
      "chicago_crime_data\n",
      "+-----+-----------------------+---------+---------+------------+----+\n",
      "| cid |          name         |   type  | notnull | dflt_value | pk |\n",
      "+-----+-----------------------+---------+---------+------------+----+\n",
      "|  0  |           ID          | INTEGER |    0    |    None    | 0  |\n",
      "|  1  |      CASE_NUMBER      |   TEXT  |    0    |    None    | 0  |\n",
      "|  2  |          DATE         |   TEXT  |    0    |    None    | 0  |\n",
      "|  3  |         BLOCK         |   TEXT  |    0    |    None    | 0  |\n",
      "|  4  |          IUCR         |   TEXT  |    0    |    None    | 0  |\n",
      "|  5  |      PRIMARY_TYPE     |   TEXT  |    0    |    None    | 0  |\n",
      "|  6  |      DESCRIPTION      |   TEXT  |    0    |    None    | 0  |\n",
      "|  7  |  LOCATION_DESCRIPTION |   TEXT  |    0    |    None    | 0  |\n",
      "|  8  |         ARREST        | INTEGER |    0    |    None    | 0  |\n",
      "|  9  |        DOMESTIC       | INTEGER |    0    |    None    | 0  |\n",
      "|  10 |          BEAT         | INTEGER |    0    |    None    | 0  |\n",
      "|  11 |        DISTRICT       | INTEGER |    0    |    None    | 0  |\n",
      "|  12 |          WARD         |   REAL  |    0    |    None    | 0  |\n",
      "|  13 | COMMUNITY_AREA_NUMBER |   REAL  |    0    |    None    | 0  |\n",
      "|  14 |        FBICODE        |   TEXT  |    0    |    None    | 0  |\n",
      "|  15 |      X_COORDINATE     |   REAL  |    0    |    None    | 0  |\n",
      "|  16 |      Y_COORDINATE     |   REAL  |    0    |    None    | 0  |\n",
      "|  17 |          YEAR         | INTEGER |    0    |    None    | 0  |\n",
      "|  18 |        LATITUDE       |   REAL  |    0    |    None    | 0  |\n",
      "|  19 |       LONGITUDE       |   REAL  |    0    |    None    | 0  |\n",
      "|  20 |        LOCATION       |   TEXT  |    0    |    None    | 0  |\n",
      "+-----+-----------------------+---------+---------+------------+----+\n"
     ]
    }
   ],
   "source": [
    "#exploro las propiedades de las tablas en el database\n",
    "for tabla in nombres_tablas:\n",
    "    query = f\"PRAGMA table_info('{tabla}');\";\n",
    "    res = %sql $query\n",
    "    print(tabla)\n",
    "    print(res)"
   ]
  },
  {
   "cell_type": "markdown",
   "id": "f13af739-8d31-46ee-ac76-1672658bd326",
   "metadata": {},
   "source": [
    "### Problemas"
   ]
  },
  {
   "cell_type": "markdown",
   "id": "f478d804-5188-4502-b1c9-b514fe8eada0",
   "metadata": {},
   "source": [
    "1- Find the total number of crimes recorded in the CRIME table."
   ]
  },
  {
   "cell_type": "code",
   "execution_count": 11,
   "id": "b088e4d4-a96f-4a6f-94c2-a02978b1c6bb",
   "metadata": {},
   "outputs": [
    {
     "name": "stdout",
     "output_type": "stream",
     "text": [
      " * sqlite:///chicago.db\n",
      "Done.\n"
     ]
    },
    {
     "data": {
      "text/html": [
       "<table>\n",
       "    <thead>\n",
       "        <tr>\n",
       "            <th>COUNT(ID)</th>\n",
       "        </tr>\n",
       "    </thead>\n",
       "    <tbody>\n",
       "        <tr>\n",
       "            <td>533</td>\n",
       "        </tr>\n",
       "    </tbody>\n",
       "</table>"
      ],
      "text/plain": [
       "[(533,)]"
      ]
     },
     "execution_count": 11,
     "metadata": {},
     "output_type": "execute_result"
    }
   ],
   "source": [
    "%sql SELECT COUNT(ID) FROM chicago_crime_data;"
   ]
  },
  {
   "cell_type": "markdown",
   "id": "288b0140-26fb-42d6-a445-0e695cc4911d",
   "metadata": {},
   "source": [
    "3- List all case numbers for crimes involving minors?(children are not considered minors for the purposes of crime analysis)"
   ]
  },
  {
   "cell_type": "code",
   "execution_count": 13,
   "id": "bff89831-a2bf-4435-839b-c390ba9adc7d",
   "metadata": {},
   "outputs": [
    {
     "name": "stdout",
     "output_type": "stream",
     "text": [
      " * sqlite:///chicago.db\n",
      "Done.\n"
     ]
    },
    {
     "data": {
      "text/html": [
       "<table>\n",
       "    <thead>\n",
       "        <tr>\n",
       "            <th>ID</th>\n",
       "            <th>CASE_NUMBER</th>\n",
       "            <th>DATE</th>\n",
       "            <th>BLOCK</th>\n",
       "            <th>IUCR</th>\n",
       "            <th>PRIMARY_TYPE</th>\n",
       "            <th>DESCRIPTION</th>\n",
       "            <th>LOCATION_DESCRIPTION</th>\n",
       "            <th>ARREST</th>\n",
       "            <th>DOMESTIC</th>\n",
       "            <th>BEAT</th>\n",
       "            <th>DISTRICT</th>\n",
       "            <th>WARD</th>\n",
       "            <th>COMMUNITY_AREA_NUMBER</th>\n",
       "            <th>FBICODE</th>\n",
       "            <th>X_COORDINATE</th>\n",
       "            <th>Y_COORDINATE</th>\n",
       "            <th>YEAR</th>\n",
       "            <th>LATITUDE</th>\n",
       "            <th>LONGITUDE</th>\n",
       "            <th>LOCATION</th>\n",
       "        </tr>\n",
       "    </thead>\n",
       "    <tbody>\n",
       "        <tr>\n",
       "            <td>3987219</td>\n",
       "            <td>HL266884</td>\n",
       "            <td>2005-03-31</td>\n",
       "            <td>024XX N CLARK ST</td>\n",
       "            <td>2210</td>\n",
       "            <td>LIQUOR LAW VIOLATION</td>\n",
       "            <td>SELL/GIVE/DEL LIQUOR TO MINOR</td>\n",
       "            <td>CONVENIENCE STORE</td>\n",
       "            <td>1</td>\n",
       "            <td>0</td>\n",
       "            <td>2333</td>\n",
       "            <td>19</td>\n",
       "            <td>43.0</td>\n",
       "            <td>7.0</td>\n",
       "            <td>22</td>\n",
       "            <td>1172680.0</td>\n",
       "            <td>1916483.0</td>\n",
       "            <td>2005</td>\n",
       "            <td>41.92626872</td>\n",
       "            <td>-87.64089934</td>\n",
       "            <td>(41.926268719, -87.640899336)</td>\n",
       "        </tr>\n",
       "        <tr>\n",
       "            <td>3266814</td>\n",
       "            <td>HK238408</td>\n",
       "            <td>2004-03-13</td>\n",
       "            <td>093XX S STONY ISLAND AVE</td>\n",
       "            <td>2230</td>\n",
       "            <td>LIQUOR LAW VIOLATION</td>\n",
       "            <td>ILLEGAL CONSUMPTION BY MINOR</td>\n",
       "            <td>ALLEY</td>\n",
       "            <td>1</td>\n",
       "            <td>0</td>\n",
       "            <td>413</td>\n",
       "            <td>4</td>\n",
       "            <td>8.0</td>\n",
       "            <td>48.0</td>\n",
       "            <td>22</td>\n",
       "            <td>1188539.0</td>\n",
       "            <td>1843379.0</td>\n",
       "            <td>2004</td>\n",
       "            <td>41.72530099</td>\n",
       "            <td>-87.58496589</td>\n",
       "            <td>(41.72530099, -87.584965887)</td>\n",
       "        </tr>\n",
       "    </tbody>\n",
       "</table>"
      ],
      "text/plain": [
       "[(3987219, 'HL266884', '2005-03-31', '024XX N CLARK ST', '2210', 'LIQUOR LAW VIOLATION', 'SELL/GIVE/DEL LIQUOR TO MINOR', 'CONVENIENCE STORE', 1, 0, 2333, 19, 43.0, 7.0, '22', 1172680.0, 1916483.0, 2005, 41.92626872, -87.64089934, '(41.926268719, -87.640899336)'),\n",
       " (3266814, 'HK238408', '2004-03-13', '093XX S STONY ISLAND AVE', '2230', 'LIQUOR LAW VIOLATION', 'ILLEGAL CONSUMPTION BY MINOR', 'ALLEY', 1, 0, 413, 4, 8.0, 48.0, '22', 1188539.0, 1843379.0, 2004, 41.72530099, -87.58496589, '(41.72530099, -87.584965887)')]"
      ]
     },
     "execution_count": 13,
     "metadata": {},
     "output_type": "execute_result"
    }
   ],
   "source": [
    "#%sql SELECT * FROM chicago_crime_data WHERE primary_type LIKE '%CHILD%' OR description LIKE '%CHILD%';\n",
    "%sql SELECT * FROM chicago_crime_data WHERE primary_type LIKE '%MINOR%' OR description LIKE '%MINOR%';"
   ]
  },
  {
   "cell_type": "code",
   "execution_count": null,
   "id": "82e7d042-5dd7-484a-8b32-d8e670644e9e",
   "metadata": {},
   "outputs": [],
   "source": []
  }
 ],
 "metadata": {
  "kernelspec": {
   "display_name": "Python 3 (ipykernel)",
   "language": "python",
   "name": "python3"
  },
  "language_info": {
   "codemirror_mode": {
    "name": "ipython",
    "version": 3
   },
   "file_extension": ".py",
   "mimetype": "text/x-python",
   "name": "python",
   "nbconvert_exporter": "python",
   "pygments_lexer": "ipython3",
   "version": "3.12.7"
  }
 },
 "nbformat": 4,
 "nbformat_minor": 5
}

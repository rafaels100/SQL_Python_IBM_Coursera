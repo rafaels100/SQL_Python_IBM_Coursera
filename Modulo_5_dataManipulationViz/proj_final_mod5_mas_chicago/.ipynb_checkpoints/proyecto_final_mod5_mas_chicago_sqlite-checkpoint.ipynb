{
 "cells": [
  {
   "cell_type": "code",
   "execution_count": 1,
   "id": "6d9e6b34-3287-453c-9f11-a29cec643e6b",
   "metadata": {},
   "outputs": [],
   "source": [
    "#Como los databases estan en archivos en sqlite, no necesito credenciales. Uso magic commands que usan sqlalchemy \n",
    "#pero no necesito importar sqlialchemy completa\n",
    "import sqlite3\n",
    "#para manipular data y llenar las tablas en sql\n",
    "import pandas as pd\n",
    "#para manipular archivos\n",
    "import os\n",
    "\n",
    "#para los magic commands si necesito prettytable\n",
    "import prettytable\n",
    "# Set the default display format for prettytable to 'DEFAULT' (i.e., a simple table format)\n",
    "prettytable.DEFAULT = 'DEFAULT'\n",
    "#cargo la extension para poder hacer magic commands\n",
    "%load_ext sql"
   ]
  },
  {
   "cell_type": "code",
   "execution_count": 4,
   "id": "fdd33183-c735-40c4-b846-d569c152f75f",
   "metadata": {},
   "outputs": [],
   "source": [
    "#creo el database chicago, que tendra las tres tablas del proyecto\n",
    "conn = sqlite3.connect(\"chicago.db\")\n",
    "cur = con.cursor()\n",
    "prettytable.DEFAULT = 'DEFAULT'"
   ]
  },
  {
   "cell_type": "code",
   "execution_count": 5,
   "id": "0880ba02-b3d8-4853-a74e-7aba33a1e590",
   "metadata": {},
   "outputs": [],
   "source": [
    "#seteo al magic command para trabajar con este database \n",
    "%sql sqlite:///SQLiteMagic.db"
   ]
  },
  {
   "cell_type": "code",
   "execution_count": null,
   "id": "88b68dc1-e9de-447b-8344-1867d2680ed1",
   "metadata": {},
   "outputs": [],
   "source": [
    "#creo las tres tablas, leyendolas de los csv en la carpeta data en este directorio\n",
    "dir_data = [\"./data/ChicagoCensusData.csv\", \"./ChicagoPublicSchools.csv\", \"./ChicagoCrimeData.csv\"]\n",
    "nombres_tablas = ['chicago_socioeconomic_data', 'school_chicago', 'chicago_crime_data']\n",
    "for i in range(len(dir_data)):\n",
    "    pd.read_csv(dir_data[i]).to_sql(nombres_tablas[i], conn, if_exists='replace', index=False)\n"
   ]
  }
 ],
 "metadata": {
  "kernelspec": {
   "display_name": "Python 3 (ipykernel)",
   "language": "python",
   "name": "python3"
  },
  "language_info": {
   "codemirror_mode": {
    "name": "ipython",
    "version": 3
   },
   "file_extension": ".py",
   "mimetype": "text/x-python",
   "name": "python",
   "nbconvert_exporter": "python",
   "pygments_lexer": "ipython3",
   "version": "3.12.7"
  }
 },
 "nbformat": 4,
 "nbformat_minor": 5
}
